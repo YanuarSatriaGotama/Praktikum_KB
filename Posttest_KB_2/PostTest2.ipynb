{
  "nbformat": 4,
  "nbformat_minor": 0,
  "metadata": {
    "colab": {
      "provenance": []
    },
    "kernelspec": {
      "name": "python3",
      "display_name": "Python 3"
    },
    "language_info": {
      "name": "python"
    }
  },
  "cells": [
    {
      "cell_type": "markdown",
      "source": [
        "POSTTEST 2 KECERDASAN BUATAN\n",
        "\n",
        "Yanuar Satria Gotama (2009106013)"
      ],
      "metadata": {
        "id": "wzOMJiF8T823"
      }
    },
    {
      "cell_type": "code",
      "execution_count": 22,
      "metadata": {
        "id": "o4u6RSOWlgq7"
      },
      "outputs": [],
      "source": [
        "import matplotlib.pyplot as plt\n",
        "import pandas as pd\n",
        "from prettytable import PrettyTable\n",
        "from tabulate import tabulate\n",
        "df = pd.read_csv(\"kaggle discussions.csv\")"
      ]
    },
    {
      "cell_type": "markdown",
      "source": [
        "Informasi yang di dapatkan adalah jumlah record, nama attribute, jumlah attribute dengan tipe objek, jumlah attribute dengan tipe angka, jumlah attribute yang memiliki nilai null.\n"
      ],
      "metadata": {
        "id": "I40L8XckQ2rc"
      }
    },
    {
      "cell_type": "code",
      "source": [
        "# Jumlah record\n",
        "JumlahRec = len(df)\n",
        "print(JumlahRec)\n",
        "\n",
        "# Nama Attribute\n",
        "namaAtt = list(df.columns)\n",
        "print(namaAtt)\n",
        "\n",
        "# Jumlah Attribute tipe Objek\n",
        "jumlahAttObjek = len(df.dtypes[df.dtypes == 'object'])\n",
        "print(jumlahAttObjek)\n",
        "\n",
        "# Jumlah Attribute tipe Angka\n",
        "jumlahAttAngka = len(df.dtypes[df.dtypes == 'int64'])\n",
        "print(jumlahAttAngka)\n",
        "\n",
        "#Jumlah Attribute nilai Null\n",
        "df.isna().any().sum()"
      ],
      "metadata": {
        "colab": {
          "base_uri": "https://localhost:8080/"
        },
        "id": "Sgtmn5DoRCXA",
        "outputId": "ba29a64f-1020-4adb-a792-12cac1818886"
      },
      "execution_count": 23,
      "outputs": [
        {
          "output_type": "stream",
          "name": "stdout",
          "text": [
            "2644\n",
            "['rank', 'points', 'status', 'profile url', 'name', 'joined', 'gold medals', 'silver medals', 'bronze medals']\n",
            "5\n",
            "4\n"
          ]
        },
        {
          "output_type": "execute_result",
          "data": {
            "text/plain": [
              "0"
            ]
          },
          "metadata": {},
          "execution_count": 23
        }
      ]
    },
    {
      "cell_type": "markdown",
      "source": [
        "Masukkan informasi di atas dalam dictionary dengan key sesuai nama informasinya. Tampilkan isi dari dictionary tersebut sebagus mungkin."
      ],
      "metadata": {
        "id": "7198bIEJRrMh"
      }
    },
    {
      "cell_type": "code",
      "source": [
        "# Jumlah record\n",
        "JumlahRec = len(df)\n",
        "\n",
        "# Nama Attribute\n",
        "namaAtt = list(df.columns)\n",
        "namaAtt = \",\\n\".join(namaAtt)\n",
        "\n",
        "# Jumlah Attribute tipe Objek\n",
        "jumlahAttObjek = len(df.dtypes[df.dtypes == 'object'])\n",
        "\n",
        "# Jumlah Attribute tipe Angka\n",
        "jumlahAttAngka = len(df.dtypes[df.dtypes == 'int64'])\n",
        "\n",
        "#Jumlah Attribute nilai Null\n",
        "jumlahAttNull = df.isna().any().sum()\n",
        "\n",
        "kamus = {\n",
        "    \"Jumlah Record\":[JumlahRec],\n",
        "    \"Nama Attribute\" : [namaAtt],\n",
        "    \"Jumlah Attribute tipe Objek\" : [jumlahAttObjek],\n",
        "    \"Jumlah Attribute tipe Angka\" : [jumlahAttAngka],\n",
        "    \"Jumlah Attribute nilai Null\"  : [jumlahAttNull],\n",
        "    \n",
        "}\n",
        "\n",
        "tab = pd.DataFrame(kamus)\n",
        "print(tabulate(tab, headers='keys', tablefmt='psql',showindex=False))"
      ],
      "metadata": {
        "colab": {
          "base_uri": "https://localhost:8080/"
        },
        "id": "aUKDOHg8SDKC",
        "outputId": "a5dbbd41-8723-401c-95bf-6a6a60a8d256"
      },
      "execution_count": 24,
      "outputs": [
        {
          "output_type": "stream",
          "name": "stdout",
          "text": [
            "+-----------------+------------------+-------------------------------+-------------------------------+-------------------------------+\n",
            "|   Jumlah Record | Nama Attribute   |   Jumlah Attribute tipe Objek |   Jumlah Attribute tipe Angka |   Jumlah Attribute nilai Null |\n",
            "|-----------------+------------------+-------------------------------+-------------------------------+-------------------------------|\n",
            "|            2644 | rank,            |                             5 |                             4 |                             0 |\n",
            "|                 | points,          |                               |                               |                               |\n",
            "|                 | status,          |                               |                               |                               |\n",
            "|                 | profile url,     |                               |                               |                               |\n",
            "|                 | name,            |                               |                               |                               |\n",
            "|                 | joined,          |                               |                               |                               |\n",
            "|                 | gold medals,     |                               |                               |                               |\n",
            "|                 | silver medals,   |                               |                               |                               |\n",
            "|                 | bronze medals    |                               |                               |                               |\n",
            "+-----------------+------------------+-------------------------------+-------------------------------+-------------------------------+\n"
          ]
        }
      ]
    },
    {
      "cell_type": "markdown",
      "source": [
        "Tampilkan rata-rata, standar deviasi, nilai minimum, nilai maksimum, Q1, Q2, dan Q3 dari attribute bertipe angka.\n"
      ],
      "metadata": {
        "id": "RA2mrZp_T3qF"
      }
    },
    {
      "cell_type": "code",
      "source": [
        "df.describe()"
      ],
      "metadata": {
        "colab": {
          "base_uri": "https://localhost:8080/",
          "height": 300
        },
        "id": "ENSWIsPKTrBn",
        "outputId": "bc3439b9-2cdb-4338-884b-d7d2f4f0a111"
      },
      "execution_count": 25,
      "outputs": [
        {
          "output_type": "execute_result",
          "data": {
            "text/plain": [
              "             rank  gold medals  silver medals  bronze medals\n",
              "count  2644.00000  2644.000000    2644.000000    2644.000000\n",
              "mean   1322.50000     5.860061       7.811649     135.347958\n",
              "std     763.40138    18.316429      21.771230     250.464925\n",
              "min       1.00000     0.000000       0.000000      18.000000\n",
              "25%     661.75000     0.000000       1.000000      59.000000\n",
              "50%    1322.50000     1.000000       3.000000      79.000000\n",
              "75%    1983.25000     5.000000       8.000000     133.000000\n",
              "max    2644.00000   440.000000     567.000000    8727.000000"
            ],
            "text/html": [
              "\n",
              "  <div id=\"df-6e4cca12-c82f-422c-a89a-4c6ec8ae5259\">\n",
              "    <div class=\"colab-df-container\">\n",
              "      <div>\n",
              "<style scoped>\n",
              "    .dataframe tbody tr th:only-of-type {\n",
              "        vertical-align: middle;\n",
              "    }\n",
              "\n",
              "    .dataframe tbody tr th {\n",
              "        vertical-align: top;\n",
              "    }\n",
              "\n",
              "    .dataframe thead th {\n",
              "        text-align: right;\n",
              "    }\n",
              "</style>\n",
              "<table border=\"1\" class=\"dataframe\">\n",
              "  <thead>\n",
              "    <tr style=\"text-align: right;\">\n",
              "      <th></th>\n",
              "      <th>rank</th>\n",
              "      <th>gold medals</th>\n",
              "      <th>silver medals</th>\n",
              "      <th>bronze medals</th>\n",
              "    </tr>\n",
              "  </thead>\n",
              "  <tbody>\n",
              "    <tr>\n",
              "      <th>count</th>\n",
              "      <td>2644.00000</td>\n",
              "      <td>2644.000000</td>\n",
              "      <td>2644.000000</td>\n",
              "      <td>2644.000000</td>\n",
              "    </tr>\n",
              "    <tr>\n",
              "      <th>mean</th>\n",
              "      <td>1322.50000</td>\n",
              "      <td>5.860061</td>\n",
              "      <td>7.811649</td>\n",
              "      <td>135.347958</td>\n",
              "    </tr>\n",
              "    <tr>\n",
              "      <th>std</th>\n",
              "      <td>763.40138</td>\n",
              "      <td>18.316429</td>\n",
              "      <td>21.771230</td>\n",
              "      <td>250.464925</td>\n",
              "    </tr>\n",
              "    <tr>\n",
              "      <th>min</th>\n",
              "      <td>1.00000</td>\n",
              "      <td>0.000000</td>\n",
              "      <td>0.000000</td>\n",
              "      <td>18.000000</td>\n",
              "    </tr>\n",
              "    <tr>\n",
              "      <th>25%</th>\n",
              "      <td>661.75000</td>\n",
              "      <td>0.000000</td>\n",
              "      <td>1.000000</td>\n",
              "      <td>59.000000</td>\n",
              "    </tr>\n",
              "    <tr>\n",
              "      <th>50%</th>\n",
              "      <td>1322.50000</td>\n",
              "      <td>1.000000</td>\n",
              "      <td>3.000000</td>\n",
              "      <td>79.000000</td>\n",
              "    </tr>\n",
              "    <tr>\n",
              "      <th>75%</th>\n",
              "      <td>1983.25000</td>\n",
              "      <td>5.000000</td>\n",
              "      <td>8.000000</td>\n",
              "      <td>133.000000</td>\n",
              "    </tr>\n",
              "    <tr>\n",
              "      <th>max</th>\n",
              "      <td>2644.00000</td>\n",
              "      <td>440.000000</td>\n",
              "      <td>567.000000</td>\n",
              "      <td>8727.000000</td>\n",
              "    </tr>\n",
              "  </tbody>\n",
              "</table>\n",
              "</div>\n",
              "      <button class=\"colab-df-convert\" onclick=\"convertToInteractive('df-6e4cca12-c82f-422c-a89a-4c6ec8ae5259')\"\n",
              "              title=\"Convert this dataframe to an interactive table.\"\n",
              "              style=\"display:none;\">\n",
              "        \n",
              "  <svg xmlns=\"http://www.w3.org/2000/svg\" height=\"24px\"viewBox=\"0 0 24 24\"\n",
              "       width=\"24px\">\n",
              "    <path d=\"M0 0h24v24H0V0z\" fill=\"none\"/>\n",
              "    <path d=\"M18.56 5.44l.94 2.06.94-2.06 2.06-.94-2.06-.94-.94-2.06-.94 2.06-2.06.94zm-11 1L8.5 8.5l.94-2.06 2.06-.94-2.06-.94L8.5 2.5l-.94 2.06-2.06.94zm10 10l.94 2.06.94-2.06 2.06-.94-2.06-.94-.94-2.06-.94 2.06-2.06.94z\"/><path d=\"M17.41 7.96l-1.37-1.37c-.4-.4-.92-.59-1.43-.59-.52 0-1.04.2-1.43.59L10.3 9.45l-7.72 7.72c-.78.78-.78 2.05 0 2.83L4 21.41c.39.39.9.59 1.41.59.51 0 1.02-.2 1.41-.59l7.78-7.78 2.81-2.81c.8-.78.8-2.07 0-2.86zM5.41 20L4 18.59l7.72-7.72 1.47 1.35L5.41 20z\"/>\n",
              "  </svg>\n",
              "      </button>\n",
              "      \n",
              "  <style>\n",
              "    .colab-df-container {\n",
              "      display:flex;\n",
              "      flex-wrap:wrap;\n",
              "      gap: 12px;\n",
              "    }\n",
              "\n",
              "    .colab-df-convert {\n",
              "      background-color: #E8F0FE;\n",
              "      border: none;\n",
              "      border-radius: 50%;\n",
              "      cursor: pointer;\n",
              "      display: none;\n",
              "      fill: #1967D2;\n",
              "      height: 32px;\n",
              "      padding: 0 0 0 0;\n",
              "      width: 32px;\n",
              "    }\n",
              "\n",
              "    .colab-df-convert:hover {\n",
              "      background-color: #E2EBFA;\n",
              "      box-shadow: 0px 1px 2px rgba(60, 64, 67, 0.3), 0px 1px 3px 1px rgba(60, 64, 67, 0.15);\n",
              "      fill: #174EA6;\n",
              "    }\n",
              "\n",
              "    [theme=dark] .colab-df-convert {\n",
              "      background-color: #3B4455;\n",
              "      fill: #D2E3FC;\n",
              "    }\n",
              "\n",
              "    [theme=dark] .colab-df-convert:hover {\n",
              "      background-color: #434B5C;\n",
              "      box-shadow: 0px 1px 3px 1px rgba(0, 0, 0, 0.15);\n",
              "      filter: drop-shadow(0px 1px 2px rgba(0, 0, 0, 0.3));\n",
              "      fill: #FFFFFF;\n",
              "    }\n",
              "  </style>\n",
              "\n",
              "      <script>\n",
              "        const buttonEl =\n",
              "          document.querySelector('#df-6e4cca12-c82f-422c-a89a-4c6ec8ae5259 button.colab-df-convert');\n",
              "        buttonEl.style.display =\n",
              "          google.colab.kernel.accessAllowed ? 'block' : 'none';\n",
              "\n",
              "        async function convertToInteractive(key) {\n",
              "          const element = document.querySelector('#df-6e4cca12-c82f-422c-a89a-4c6ec8ae5259');\n",
              "          const dataTable =\n",
              "            await google.colab.kernel.invokeFunction('convertToInteractive',\n",
              "                                                     [key], {});\n",
              "          if (!dataTable) return;\n",
              "\n",
              "          const docLinkHtml = 'Like what you see? Visit the ' +\n",
              "            '<a target=\"_blank\" href=https://colab.research.google.com/notebooks/data_table.ipynb>data table notebook</a>'\n",
              "            + ' to learn more about interactive tables.';\n",
              "          element.innerHTML = '';\n",
              "          dataTable['output_type'] = 'display_data';\n",
              "          await google.colab.output.renderOutput(dataTable, element);\n",
              "          const docLink = document.createElement('div');\n",
              "          docLink.innerHTML = docLinkHtml;\n",
              "          element.appendChild(docLink);\n",
              "        }\n",
              "      </script>\n",
              "    </div>\n",
              "  </div>\n",
              "  "
            ]
          },
          "metadata": {},
          "execution_count": 25
        }
      ]
    },
    {
      "cell_type": "markdown",
      "source": [
        "Tampilkan nilai korelasi attribute bertipe angka."
      ],
      "metadata": {
        "id": "WIW0tBuVVEjV"
      }
    },
    {
      "cell_type": "code",
      "source": [
        "df.corr()"
      ],
      "metadata": {
        "colab": {
          "base_uri": "https://localhost:8080/",
          "height": 175
        },
        "id": "-8WuJicpVH9O",
        "outputId": "02805fd7-324a-42ba-e27b-2e0689a1fb17"
      },
      "execution_count": 26,
      "outputs": [
        {
          "output_type": "execute_result",
          "data": {
            "text/plain": [
              "                   rank  gold medals  silver medals  bronze medals\n",
              "rank           1.000000    -0.345224      -0.304609      -0.332526\n",
              "gold medals   -0.345224     1.000000       0.953389       0.589703\n",
              "silver medals -0.304609     0.953389       1.000000       0.609820\n",
              "bronze medals -0.332526     0.589703       0.609820       1.000000"
            ],
            "text/html": [
              "\n",
              "  <div id=\"df-b4d0538f-d0f7-404a-a26b-98c04115ba02\">\n",
              "    <div class=\"colab-df-container\">\n",
              "      <div>\n",
              "<style scoped>\n",
              "    .dataframe tbody tr th:only-of-type {\n",
              "        vertical-align: middle;\n",
              "    }\n",
              "\n",
              "    .dataframe tbody tr th {\n",
              "        vertical-align: top;\n",
              "    }\n",
              "\n",
              "    .dataframe thead th {\n",
              "        text-align: right;\n",
              "    }\n",
              "</style>\n",
              "<table border=\"1\" class=\"dataframe\">\n",
              "  <thead>\n",
              "    <tr style=\"text-align: right;\">\n",
              "      <th></th>\n",
              "      <th>rank</th>\n",
              "      <th>gold medals</th>\n",
              "      <th>silver medals</th>\n",
              "      <th>bronze medals</th>\n",
              "    </tr>\n",
              "  </thead>\n",
              "  <tbody>\n",
              "    <tr>\n",
              "      <th>rank</th>\n",
              "      <td>1.000000</td>\n",
              "      <td>-0.345224</td>\n",
              "      <td>-0.304609</td>\n",
              "      <td>-0.332526</td>\n",
              "    </tr>\n",
              "    <tr>\n",
              "      <th>gold medals</th>\n",
              "      <td>-0.345224</td>\n",
              "      <td>1.000000</td>\n",
              "      <td>0.953389</td>\n",
              "      <td>0.589703</td>\n",
              "    </tr>\n",
              "    <tr>\n",
              "      <th>silver medals</th>\n",
              "      <td>-0.304609</td>\n",
              "      <td>0.953389</td>\n",
              "      <td>1.000000</td>\n",
              "      <td>0.609820</td>\n",
              "    </tr>\n",
              "    <tr>\n",
              "      <th>bronze medals</th>\n",
              "      <td>-0.332526</td>\n",
              "      <td>0.589703</td>\n",
              "      <td>0.609820</td>\n",
              "      <td>1.000000</td>\n",
              "    </tr>\n",
              "  </tbody>\n",
              "</table>\n",
              "</div>\n",
              "      <button class=\"colab-df-convert\" onclick=\"convertToInteractive('df-b4d0538f-d0f7-404a-a26b-98c04115ba02')\"\n",
              "              title=\"Convert this dataframe to an interactive table.\"\n",
              "              style=\"display:none;\">\n",
              "        \n",
              "  <svg xmlns=\"http://www.w3.org/2000/svg\" height=\"24px\"viewBox=\"0 0 24 24\"\n",
              "       width=\"24px\">\n",
              "    <path d=\"M0 0h24v24H0V0z\" fill=\"none\"/>\n",
              "    <path d=\"M18.56 5.44l.94 2.06.94-2.06 2.06-.94-2.06-.94-.94-2.06-.94 2.06-2.06.94zm-11 1L8.5 8.5l.94-2.06 2.06-.94-2.06-.94L8.5 2.5l-.94 2.06-2.06.94zm10 10l.94 2.06.94-2.06 2.06-.94-2.06-.94-.94-2.06-.94 2.06-2.06.94z\"/><path d=\"M17.41 7.96l-1.37-1.37c-.4-.4-.92-.59-1.43-.59-.52 0-1.04.2-1.43.59L10.3 9.45l-7.72 7.72c-.78.78-.78 2.05 0 2.83L4 21.41c.39.39.9.59 1.41.59.51 0 1.02-.2 1.41-.59l7.78-7.78 2.81-2.81c.8-.78.8-2.07 0-2.86zM5.41 20L4 18.59l7.72-7.72 1.47 1.35L5.41 20z\"/>\n",
              "  </svg>\n",
              "      </button>\n",
              "      \n",
              "  <style>\n",
              "    .colab-df-container {\n",
              "      display:flex;\n",
              "      flex-wrap:wrap;\n",
              "      gap: 12px;\n",
              "    }\n",
              "\n",
              "    .colab-df-convert {\n",
              "      background-color: #E8F0FE;\n",
              "      border: none;\n",
              "      border-radius: 50%;\n",
              "      cursor: pointer;\n",
              "      display: none;\n",
              "      fill: #1967D2;\n",
              "      height: 32px;\n",
              "      padding: 0 0 0 0;\n",
              "      width: 32px;\n",
              "    }\n",
              "\n",
              "    .colab-df-convert:hover {\n",
              "      background-color: #E2EBFA;\n",
              "      box-shadow: 0px 1px 2px rgba(60, 64, 67, 0.3), 0px 1px 3px 1px rgba(60, 64, 67, 0.15);\n",
              "      fill: #174EA6;\n",
              "    }\n",
              "\n",
              "    [theme=dark] .colab-df-convert {\n",
              "      background-color: #3B4455;\n",
              "      fill: #D2E3FC;\n",
              "    }\n",
              "\n",
              "    [theme=dark] .colab-df-convert:hover {\n",
              "      background-color: #434B5C;\n",
              "      box-shadow: 0px 1px 3px 1px rgba(0, 0, 0, 0.15);\n",
              "      filter: drop-shadow(0px 1px 2px rgba(0, 0, 0, 0.3));\n",
              "      fill: #FFFFFF;\n",
              "    }\n",
              "  </style>\n",
              "\n",
              "      <script>\n",
              "        const buttonEl =\n",
              "          document.querySelector('#df-b4d0538f-d0f7-404a-a26b-98c04115ba02 button.colab-df-convert');\n",
              "        buttonEl.style.display =\n",
              "          google.colab.kernel.accessAllowed ? 'block' : 'none';\n",
              "\n",
              "        async function convertToInteractive(key) {\n",
              "          const element = document.querySelector('#df-b4d0538f-d0f7-404a-a26b-98c04115ba02');\n",
              "          const dataTable =\n",
              "            await google.colab.kernel.invokeFunction('convertToInteractive',\n",
              "                                                     [key], {});\n",
              "          if (!dataTable) return;\n",
              "\n",
              "          const docLinkHtml = 'Like what you see? Visit the ' +\n",
              "            '<a target=\"_blank\" href=https://colab.research.google.com/notebooks/data_table.ipynb>data table notebook</a>'\n",
              "            + ' to learn more about interactive tables.';\n",
              "          element.innerHTML = '';\n",
              "          dataTable['output_type'] = 'display_data';\n",
              "          await google.colab.output.renderOutput(dataTable, element);\n",
              "          const docLink = document.createElement('div');\n",
              "          docLink.innerHTML = docLinkHtml;\n",
              "          element.appendChild(docLink);\n",
              "        }\n",
              "      </script>\n",
              "    </div>\n",
              "  </div>\n",
              "  "
            ]
          },
          "metadata": {},
          "execution_count": 26
        }
      ]
    },
    {
      "cell_type": "markdown",
      "source": [
        "Rubah nilai salah satu attribute bertipe angka menjadi desimal 3 angka dibelakang koma jika tidak ada, lakukan sebaliknya (dari desimal menjadi bilangan bulat)."
      ],
      "metadata": {
        "id": "LtiULVnYVRqD"
      }
    },
    {
      "cell_type": "code",
      "source": [
        "df[\"gold medals\"].head()\n",
        "\n",
        "df[\"gold medals\"] = df[\"gold medals\"] * 0.001\n",
        "\n",
        "df[\"gold medals\"].head()"
      ],
      "metadata": {
        "colab": {
          "base_uri": "https://localhost:8080/"
        },
        "id": "hShKC_IgVXF0",
        "outputId": "2f693edb-8f36-4797-b812-24fd3a6e2122"
      },
      "execution_count": 28,
      "outputs": [
        {
          "output_type": "execute_result",
          "data": {
            "text/plain": [
              "0    0.343\n",
              "1    0.403\n",
              "2    0.057\n",
              "3    0.440\n",
              "4    0.060\n",
              "Name: gold medals, dtype: float64"
            ]
          },
          "metadata": {},
          "execution_count": 28
        }
      ]
    },
    {
      "cell_type": "markdown",
      "source": [
        "Tampilkan 10 record pertama dari attribute bertipe angka."
      ],
      "metadata": {
        "id": "BedM_NDaWm_U"
      }
    },
    {
      "cell_type": "code",
      "source": [
        "dfAttAngka= df.select_dtypes(include=['float64','int64'])\n",
        "\n",
        "dfAttAngka.head(10)"
      ],
      "metadata": {
        "colab": {
          "base_uri": "https://localhost:8080/",
          "height": 363
        },
        "id": "xueamrpDWpHo",
        "outputId": "6e399eee-ca49-4290-be09-0e999d520350"
      },
      "execution_count": 30,
      "outputs": [
        {
          "output_type": "execute_result",
          "data": {
            "text/plain": [
              "   rank  gold medals  silver medals  bronze medals\n",
              "0     1        0.343            461           3993\n",
              "1     2        0.403            454           2494\n",
              "2     3        0.057             91           8727\n",
              "3     4        0.440            567           4456\n",
              "4     5        0.060             39           1447\n",
              "5     6        0.098            110           1275\n",
              "6     7        0.052             52            367\n",
              "7     8        0.066             29            860\n",
              "8     9        0.103             33            875\n",
              "9    10        0.138            206           1060"
            ],
            "text/html": [
              "\n",
              "  <div id=\"df-d036314e-b8de-416f-8bba-48936c69c1a2\">\n",
              "    <div class=\"colab-df-container\">\n",
              "      <div>\n",
              "<style scoped>\n",
              "    .dataframe tbody tr th:only-of-type {\n",
              "        vertical-align: middle;\n",
              "    }\n",
              "\n",
              "    .dataframe tbody tr th {\n",
              "        vertical-align: top;\n",
              "    }\n",
              "\n",
              "    .dataframe thead th {\n",
              "        text-align: right;\n",
              "    }\n",
              "</style>\n",
              "<table border=\"1\" class=\"dataframe\">\n",
              "  <thead>\n",
              "    <tr style=\"text-align: right;\">\n",
              "      <th></th>\n",
              "      <th>rank</th>\n",
              "      <th>gold medals</th>\n",
              "      <th>silver medals</th>\n",
              "      <th>bronze medals</th>\n",
              "    </tr>\n",
              "  </thead>\n",
              "  <tbody>\n",
              "    <tr>\n",
              "      <th>0</th>\n",
              "      <td>1</td>\n",
              "      <td>0.343</td>\n",
              "      <td>461</td>\n",
              "      <td>3993</td>\n",
              "    </tr>\n",
              "    <tr>\n",
              "      <th>1</th>\n",
              "      <td>2</td>\n",
              "      <td>0.403</td>\n",
              "      <td>454</td>\n",
              "      <td>2494</td>\n",
              "    </tr>\n",
              "    <tr>\n",
              "      <th>2</th>\n",
              "      <td>3</td>\n",
              "      <td>0.057</td>\n",
              "      <td>91</td>\n",
              "      <td>8727</td>\n",
              "    </tr>\n",
              "    <tr>\n",
              "      <th>3</th>\n",
              "      <td>4</td>\n",
              "      <td>0.440</td>\n",
              "      <td>567</td>\n",
              "      <td>4456</td>\n",
              "    </tr>\n",
              "    <tr>\n",
              "      <th>4</th>\n",
              "      <td>5</td>\n",
              "      <td>0.060</td>\n",
              "      <td>39</td>\n",
              "      <td>1447</td>\n",
              "    </tr>\n",
              "    <tr>\n",
              "      <th>5</th>\n",
              "      <td>6</td>\n",
              "      <td>0.098</td>\n",
              "      <td>110</td>\n",
              "      <td>1275</td>\n",
              "    </tr>\n",
              "    <tr>\n",
              "      <th>6</th>\n",
              "      <td>7</td>\n",
              "      <td>0.052</td>\n",
              "      <td>52</td>\n",
              "      <td>367</td>\n",
              "    </tr>\n",
              "    <tr>\n",
              "      <th>7</th>\n",
              "      <td>8</td>\n",
              "      <td>0.066</td>\n",
              "      <td>29</td>\n",
              "      <td>860</td>\n",
              "    </tr>\n",
              "    <tr>\n",
              "      <th>8</th>\n",
              "      <td>9</td>\n",
              "      <td>0.103</td>\n",
              "      <td>33</td>\n",
              "      <td>875</td>\n",
              "    </tr>\n",
              "    <tr>\n",
              "      <th>9</th>\n",
              "      <td>10</td>\n",
              "      <td>0.138</td>\n",
              "      <td>206</td>\n",
              "      <td>1060</td>\n",
              "    </tr>\n",
              "  </tbody>\n",
              "</table>\n",
              "</div>\n",
              "      <button class=\"colab-df-convert\" onclick=\"convertToInteractive('df-d036314e-b8de-416f-8bba-48936c69c1a2')\"\n",
              "              title=\"Convert this dataframe to an interactive table.\"\n",
              "              style=\"display:none;\">\n",
              "        \n",
              "  <svg xmlns=\"http://www.w3.org/2000/svg\" height=\"24px\"viewBox=\"0 0 24 24\"\n",
              "       width=\"24px\">\n",
              "    <path d=\"M0 0h24v24H0V0z\" fill=\"none\"/>\n",
              "    <path d=\"M18.56 5.44l.94 2.06.94-2.06 2.06-.94-2.06-.94-.94-2.06-.94 2.06-2.06.94zm-11 1L8.5 8.5l.94-2.06 2.06-.94-2.06-.94L8.5 2.5l-.94 2.06-2.06.94zm10 10l.94 2.06.94-2.06 2.06-.94-2.06-.94-.94-2.06-.94 2.06-2.06.94z\"/><path d=\"M17.41 7.96l-1.37-1.37c-.4-.4-.92-.59-1.43-.59-.52 0-1.04.2-1.43.59L10.3 9.45l-7.72 7.72c-.78.78-.78 2.05 0 2.83L4 21.41c.39.39.9.59 1.41.59.51 0 1.02-.2 1.41-.59l7.78-7.78 2.81-2.81c.8-.78.8-2.07 0-2.86zM5.41 20L4 18.59l7.72-7.72 1.47 1.35L5.41 20z\"/>\n",
              "  </svg>\n",
              "      </button>\n",
              "      \n",
              "  <style>\n",
              "    .colab-df-container {\n",
              "      display:flex;\n",
              "      flex-wrap:wrap;\n",
              "      gap: 12px;\n",
              "    }\n",
              "\n",
              "    .colab-df-convert {\n",
              "      background-color: #E8F0FE;\n",
              "      border: none;\n",
              "      border-radius: 50%;\n",
              "      cursor: pointer;\n",
              "      display: none;\n",
              "      fill: #1967D2;\n",
              "      height: 32px;\n",
              "      padding: 0 0 0 0;\n",
              "      width: 32px;\n",
              "    }\n",
              "\n",
              "    .colab-df-convert:hover {\n",
              "      background-color: #E2EBFA;\n",
              "      box-shadow: 0px 1px 2px rgba(60, 64, 67, 0.3), 0px 1px 3px 1px rgba(60, 64, 67, 0.15);\n",
              "      fill: #174EA6;\n",
              "    }\n",
              "\n",
              "    [theme=dark] .colab-df-convert {\n",
              "      background-color: #3B4455;\n",
              "      fill: #D2E3FC;\n",
              "    }\n",
              "\n",
              "    [theme=dark] .colab-df-convert:hover {\n",
              "      background-color: #434B5C;\n",
              "      box-shadow: 0px 1px 3px 1px rgba(0, 0, 0, 0.15);\n",
              "      filter: drop-shadow(0px 1px 2px rgba(0, 0, 0, 0.3));\n",
              "      fill: #FFFFFF;\n",
              "    }\n",
              "  </style>\n",
              "\n",
              "      <script>\n",
              "        const buttonEl =\n",
              "          document.querySelector('#df-d036314e-b8de-416f-8bba-48936c69c1a2 button.colab-df-convert');\n",
              "        buttonEl.style.display =\n",
              "          google.colab.kernel.accessAllowed ? 'block' : 'none';\n",
              "\n",
              "        async function convertToInteractive(key) {\n",
              "          const element = document.querySelector('#df-d036314e-b8de-416f-8bba-48936c69c1a2');\n",
              "          const dataTable =\n",
              "            await google.colab.kernel.invokeFunction('convertToInteractive',\n",
              "                                                     [key], {});\n",
              "          if (!dataTable) return;\n",
              "\n",
              "          const docLinkHtml = 'Like what you see? Visit the ' +\n",
              "            '<a target=\"_blank\" href=https://colab.research.google.com/notebooks/data_table.ipynb>data table notebook</a>'\n",
              "            + ' to learn more about interactive tables.';\n",
              "          element.innerHTML = '';\n",
              "          dataTable['output_type'] = 'display_data';\n",
              "          await google.colab.output.renderOutput(dataTable, element);\n",
              "          const docLink = document.createElement('div');\n",
              "          docLink.innerHTML = docLinkHtml;\n",
              "          element.appendChild(docLink);\n",
              "        }\n",
              "      </script>\n",
              "    </div>\n",
              "  </div>\n",
              "  "
            ]
          },
          "metadata": {},
          "execution_count": 30
        }
      ]
    },
    {
      "cell_type": "markdown",
      "source": [
        "Simpan dataset dengan attribute bertipe angka ke dalam file CSV."
      ],
      "metadata": {
        "id": "5TD9e3LOYUFv"
      }
    },
    {
      "cell_type": "code",
      "source": [
        "dfAttAngka.to_csv(\"PostTest2.csv\", index=False)"
      ],
      "metadata": {
        "id": "W6YBp2boYXpT"
      },
      "execution_count": 31,
      "outputs": []
    }
  ]
}